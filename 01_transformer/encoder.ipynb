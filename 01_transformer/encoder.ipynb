{
 "cells": [
  {
   "cell_type": "code",
   "execution_count": 1,
   "id": "86b71f67",
   "metadata": {},
   "outputs": [],
   "source": [
    "\n",
    "import torch\n",
    "import torch.nn as nn\n",
    "from torch.nn import functional as F "
   ]
  },
  {
   "cell_type": "code",
   "execution_count": 2,
   "id": "e3d3ad4c",
   "metadata": {},
   "outputs": [],
   "source": [
    "import math \n",
    "import numpy as np "
   ]
  },
  {
   "cell_type": "code",
   "execution_count": 3,
   "id": "1cefc7a3",
   "metadata": {},
   "outputs": [],
   "source": [
    "\n",
    "# Hyper parameters:\n",
    "device = torch.cuda.is_available() if  \"gpu\" else \"cpu\"\n",
    "\n",
    "d_model = 512\n",
    "num_heads = 8\n",
    "drop_prob = 0.1\n",
    "batch_size = 30\n",
    "max_sqeuence_length = 200 # overall 200 token:\n",
    "ffn_hidden = 2048 # ffn-> feed forward netowrk's nuron\n",
    "num_layer = 6\n",
    "\n"
   ]
  },
  {
   "cell_type": "code",
   "execution_count": 4,
   "id": "b4cf66a5",
   "metadata": {},
   "outputs": [
    {
     "data": {
      "text/plain": [
       "' \\n*************************************\\nSelf Attention + MultiHeadAttention:\\n*************************************\\n'"
      ]
     },
     "execution_count": 4,
     "metadata": {},
     "output_type": "execute_result"
    }
   ],
   "source": [
    "\n",
    "\"\"\" \n",
    "*************************************\n",
    "Self Attention + MultiHeadAttention:\n",
    "*************************************\n",
    "\"\"\"\n",
    "\n"
   ]
  },
  {
   "cell_type": "code",
   "execution_count": 5,
   "id": "5f2f0870",
   "metadata": {},
   "outputs": [],
   "source": [
    "import numpy as np \n",
    "x = np.ones(shape=(30,200,512),dtype=np.float32)\n",
    "y = torch.from_numpy(x)"
   ]
  },
  {
   "cell_type": "code",
   "execution_count": 6,
   "id": "513bcfc5",
   "metadata": {},
   "outputs": [
    {
     "data": {
      "text/plain": [
       "torch.Size([30, 200, 512])"
      ]
     },
     "execution_count": 6,
     "metadata": {},
     "output_type": "execute_result"
    }
   ],
   "source": [
    "\n",
    "# size of the tensor y:\n",
    "y.size()\n"
   ]
  },
  {
   "cell_type": "code",
   "execution_count": 7,
   "id": "288e8711",
   "metadata": {},
   "outputs": [
    {
     "name": "stdout",
     "output_type": "stream",
     "text": [
      "orginal:  torch.Size([30, 200, 512])\n",
      "after transpose: torch.Size([512, 200, 30])\n",
      "torch.Size([30, 512, 200])\n"
     ]
    },
    {
     "name": "stderr",
     "output_type": "stream",
     "text": [
      "/tmp/ipykernel_5034/2642397459.py:5: UserWarning: The use of `x.T` on tensors of dimension other than 2 to reverse their shape is deprecated and it will throw an error in a future release. Consider `x.mT` to transpose batches of matrices or `x.permute(*torch.arange(x.ndim - 1, -1, -1))` to reverse the dimensions of a tensor. (Triggered internally at /pytorch/aten/src/ATen/native/TensorShape.cpp:4413.)\n",
      "  print(\"after transpose:\", y.T.size())\n"
     ]
    }
   ],
   "source": [
    "\n",
    "# transpose of y:\n",
    "# but problem is 30 is our batch dimention we need only trnaspose the 1st two column\n",
    "# for that we can do:\n",
    "print(\"orginal: \",y.size())\n",
    "print(\"after transpose:\", y.T.size())\n",
    "print(y.transpose(dim0=-1,dim1=-2).size())\n"
   ]
  },
  {
   "cell_type": "code",
   "execution_count": 8,
   "id": "3ee17f2a",
   "metadata": {},
   "outputs": [
    {
     "name": "stdout",
     "output_type": "stream",
     "text": [
      "tensor(0.5325) tensor(0.5545) tensor(0.4697)\n",
      "tensor(0.5545) tensor(0.5325) tensor(0.1174)\n"
     ]
    }
   ],
   "source": [
    "\n",
    "# why scaling?\n",
    "# matmul() will give us high variance \n",
    "# softmax behavior on high variance data:\n",
    "q = torch.randn(size=(4,4))\n",
    "k = torch.randn(size=(4,4))\n",
    "d_k = k.size()[-1]\n",
    "print(q.var(),k.var(),torch.matmul(q,k.T).var())\n",
    "scaled = torch.matmul(k,q.T) / math.sqrt(d_k)\n",
    "print(k.var(),q.var(),scaled.var())\n"
   ]
  },
  {
   "cell_type": "code",
   "execution_count": 9,
   "id": "ff76a7e5",
   "metadata": {},
   "outputs": [
    {
     "name": "stdout",
     "output_type": "stream",
     "text": [
      "tensor([[1., 0., 0., 0.],\n",
      "        [1., 1., 0., 0.],\n",
      "        [1., 1., 1., 0.],\n",
      "        [1., 1., 1., 1.]], dtype=torch.float64)\n",
      "tensor([[0., -inf, -inf, -inf],\n",
      "        [0., 0., -inf, -inf],\n",
      "        [0., 0., 0., -inf],\n",
      "        [0., 0., 0., 0.]], dtype=torch.float64)\n",
      "\n",
      "tensor([[-0.0531,    -inf,    -inf,    -inf],\n",
      "        [ 0.3997, -0.4233,    -inf,    -inf],\n",
      "        [ 0.4605, -0.5080,  0.2511,    -inf],\n",
      "        [ 0.2768, -0.2240,  0.0650, -0.3708]], dtype=torch.float64)\n"
     ]
    },
    {
     "data": {
      "text/plain": [
       "tensor([[1.0000, 0.0000, 0.0000, 0.0000],\n",
       "        [0.6949, 0.3051, 0.0000, 0.0000],\n",
       "        [0.4565, 0.1733, 0.3702, 0.0000],\n",
       "        [0.3403, 0.2062, 0.2754, 0.1781]], dtype=torch.float64)"
      ]
     },
     "execution_count": 9,
     "metadata": {},
     "output_type": "execute_result"
    }
   ],
   "source": [
    "\"\"\" \n",
    "Musking while inference time: \n",
    "\"\"\"\n",
    "mask = torch.tril(input=torch.from_numpy(np.ones(shape=(4,4))))\n",
    "print(mask)\n",
    "mask[mask==0] = -np.inf\n",
    "mask[mask==1] = 0\n",
    "print(mask,end=\"\\n\\n\")\n",
    "print(scaled+mask)\n",
    "soft = nn.Softmax(dim=-1)\n",
    "\"\"\" \n",
    "We know, softmax give us probability,\n",
    "see the result of [0,0] it should give us 1, \n",
    "means that, it will foucus 100% to generate the 1st word,\n",
    "for 2nd word,\n",
    "63% and 37%\n",
    "\"\"\"\n",
    "soft(scaled+mask)\n"
   ]
  },
  {
   "cell_type": "code",
   "execution_count": 10,
   "id": "f9cf7586",
   "metadata": {},
   "outputs": [],
   "source": [
    "\n",
    "\"\"\" \n",
    "Self attention:\n",
    "attention(Q,K,V) = softmax(QK^T/root(Dk)) * V\n",
    "\"\"\"\n",
    "\n",
    "def selfAttention(q,k,v,mask=None):\n",
    "    \"\"\"\n",
    "    Compute scaled dot-product attention\n",
    "    Args:\n",
    "        q: queries of shape (batch, heads, seq_len, d_k)\n",
    "        k: keys of shape    (batch, heads, seq_len, d_k)\n",
    "        v: values of shape  (batch, heads, seq_len, d_k)\n",
    "        mask: optional mask of shape (batch, 1, seq_len, seq_len)\n",
    "    Returns:\n",
    "        output: attended values (batch, heads, seq_len, d_k)\n",
    "        attn: attention weights (batch, heads, seq_len, seq_len)\n",
    "    \"\"\"\n",
    "    #30 X 8 X 200 X 64\n",
    "    d_k = k.size()[-1] # 64\n",
    "    #  q(30X8X200X64) k.T(30X8X64X200) \n",
    "    # this is a batch multiplication, so 30X8 will remain same\n",
    "    # 200X64 64X200 = 200X200\n",
    "    scaled = torch.matmul(q,k.transpose(-1,-2)) / math.sqrt(d_k) # 30X8X200X200\n",
    "    if mask is not None:\n",
    "        scaled += mask # pytoch is very smart, it will automatically determine shpae and add mask(200X200)\n",
    "    attention = F.softmax(input=scaled,dim=-1)\n",
    "    # S(30X8X200X200) V(30X8X200X64)\n",
    "    # 30 X 8 X 200 X 64 \n",
    "    values = torch.matmul(scaled,v) \n",
    "    return values,attention\n",
    "\n",
    "    "
   ]
  },
  {
   "cell_type": "code",
   "execution_count": 11,
   "id": "9602e3e6",
   "metadata": {},
   "outputs": [
    {
     "data": {
      "text/plain": [
       "torch.Size([1, 4, 512])"
      ]
     },
     "execution_count": 11,
     "metadata": {},
     "output_type": "execute_result"
    }
   ],
   "source": [
    "# how multihead-attention is worked:\n",
    "number_of_head = 8\n",
    "d_model = 512\n",
    "batch_size = 1\n",
    "maximum_sequence_length = 4 \n",
    "input_dim = 512\n",
    "x = torch.randn(size=(batch_size,maximum_sequence_length,input_dim))\n",
    "x.shape\n"
   ]
  },
  {
   "cell_type": "code",
   "execution_count": 12,
   "id": "a7de2f01",
   "metadata": {},
   "outputs": [],
   "source": [
    "\n",
    "# we compute q,k,v into one matrix:\n",
    "qkv = nn.Linear(in_features=input_dim,out_features=3*d_model)\n"
   ]
  },
  {
   "cell_type": "code",
   "execution_count": 13,
   "id": "eb41b70e",
   "metadata": {},
   "outputs": [],
   "source": [
    "\n",
    "\"\"\" \n",
    "***\n",
    "MultiHeadAttention:\n",
    "Slightly different from my note:\n",
    "- Result of single attention will not stack along row.\n",
    "- Meanwhile, we keep the embedding_dim = 512, divide then with the numbe of head\n",
    "    - if our head is 8\n",
    "        then, 512/8 = 64, \n",
    "        we will add, 8 head of dimention = 64\n",
    "        And finally for linear transformation will will have, 512X512 dimention matrix\n",
    "- For finding, q,k,v the matrix Wq,Wk,Wv we be stored into another matrix.\n",
    "\n",
    "***\n",
    "\"\"\"\n",
    "\n",
    "class MultiHeadAttention(nn.Module):\n",
    "    def __init__(self,d_model,num_heads):\n",
    "        \"\"\"\n",
    "        Multi-Head Attention module\n",
    "        Args:\n",
    "            d_model: total embedding dimension\n",
    "            num_heads: number of attention heads\n",
    "        \"\"\"\n",
    "        super().__init__()\n",
    "        self.d_model = d_model\n",
    "        self.num_heads = num_heads\n",
    "        # must be devide by num_heads from our above condition:\n",
    "        # assert d_model%num_heads == 0 \n",
    "        self.head_dim = d_model // num_heads # 512/8 = 64 \n",
    "        self.qkv = nn.Linear(in_features=d_model,out_features=3*d_model) # 512* 1536\n",
    "        self.linear_trans = nn.Linear(in_features=d_model,out_features=d_model)\n",
    "        \n",
    "    def forward(self,x,mask=None):\n",
    "            \"\"\" \n",
    "            In my simple multi-head attention diagram, we took input as 2X4 for a single word, (batch_size,embedding_size)\n",
    "            But, In reality, we, will also consider batchsize,\n",
    "            so the input should be, (batch_size,max_sequence_length)\n",
    "            For,example 2 sentence, : \n",
    "                Batch 0 (“Hi ! my name is yasin .”):\n",
    "                ┌───────────────────────────────────────────┐\n",
    "                │ pos=0: e(\"Hi\")    → [0.1, 0.2, 0.3, 0.4] │\n",
    "                │ pos=1: e(\"!\")     → [0.5, 0.6, 0.7, 0.8] │\n",
    "                │ pos=2: e(\"my\")    → [0.2, 0.1, 0.4, 0.3] │\n",
    "                │ pos=3: e(\"name\")  → [0.3, 0.8, 0.1, 0.9] │\n",
    "                │ pos=4: e(\"is\")    → [0.6, 0.2, 0.2, 0.5] │\n",
    "                │ pos=5: e(\"yasin\") → [0.9, 0.4, 0.7, 0.1] │\n",
    "                │ pos=6: e(\".\")     → [0.0, 0.0, 0.0, 0.0] │ ← (padding) \n",
    "                └───────────────────────────────────────────┘\n",
    "\n",
    "                Batch 1 (“I am fine .”):\n",
    "                ┌───────────────────────────────────────────┐\n",
    "                │ pos=0: e(\"I\")     → [0.2, 0.3, 0.5, 0.7] │\n",
    "                │ pos=1: e(\"am\")    → [0.1, 0.4, 0.6, 0.8] │\n",
    "                │ pos=2: e(\"fine\")  → [0.3, 0.2, 0.9, 0.5] │\n",
    "                │ pos=3: e(\".\")     → [0.0, 0.0, 0.0, 0.0] │ ← (padding)\n",
    "                │ pos=4: PAD        → [0.0, 0.0, 0.0, 0.0] │\n",
    "                │ pos=5: PAD        → [0.0, 0.0, 0.0, 0.0] │\n",
    "                │ pos=6: PAD        → [0.0, 0.0, 0.0, 0.0] │\n",
    "                └───────────────────────────────────────────┘\n",
    "                Here, our maximum_sequence_length is 7.If we feed a sentece where \n",
    "                we give sequence_length is greater than 7 then we will get error.\n",
    "                 ব্যাচ সাইজ (Batch Size)\n",
    "\n",
    "                **ট্রেনিং-এ**: একসাথে N টি আলাদা “ট্রেনিং উদাহরণ” (conversations বা প্রশ্ন–উত্তর জোড়া) নিয়ে আমরা একটানা \n",
    "                প্রসেস করি।\n",
    "\n",
    "                **ইনফারেন্স-এ**: সাধারণত batch_size=1 (একজন ব্যবহারকারীর বর্তমান চ্যাট history) বা সামগ্রিক সার্ভিসে \n",
    "                ধরো M জন ব্যবহারকারীর অনুরোধ একসঙ্গে।\n",
    "            \"\"\"\n",
    "            batch_size,sequence_length, d_model = x.size() # 30x200x512\n",
    "            qkv = self.qkv(x) # 30X200X1536\n",
    "            qkv = qkv.view(batch_size,sequence_length,self.num_heads,3*self.head_dim) # 30X200X8X(64*3)=192\n",
    "            qkv = qkv.permute(0,2,1,3) #30,8,200,192\n",
    "            q,k,v = qkv.chunk(3,dim=-1) #30X8X200X64\n",
    "            # value=30X8X200X64,  atten=30X8X200X200\n",
    "            values,attention = selfAttention(q=q,k=k,v=v,mask=None)\n",
    "            \"\"\" \n",
    "            -   permute() অপারেশন টেন্সরকে non-contiguous করে দেয়,\n",
    "            -   PyTorch-এর view() মেথড শুধুমাত্র contiguous টেন্সরে কাজ করে view() ব্যর্থ হয় \n",
    "            -   after appling permute() টেন্সর এখন মেমরিতে \"ভাঙা\" অবস্থায় আছে (non-contiguous)\n",
    "            -   view() চায় সব ডাটা একটানা মেমরি ব্লকে থাকুক\n",
    "\n",
    "            সমাধান:\n",
    "                reshape() ব্যবহার করুন (যা স্বয়ংক্রিয়ভাবে contiguity হ্যান্ডল করে):\n",
    "            \"\"\"\n",
    "            values = values.permute(0, 2, 1, 3).reshape(batch_size,sequence_length,self.num_heads*self.head_dim) # [30, 200, 8, 64]\n",
    "            #concatenate result, 30 x 200 X (head*head_dimeantion)\n",
    "            #values.reshape(batch_size,sequence_length,self.num_heads*self.head_dim)\n",
    "            # send concatenate result into final liner transformation layer\n",
    "            out = self.linear_trans(values)\n",
    "            return out\n",
    "        \n",
    "            \n",
    "        "
   ]
  },
  {
   "cell_type": "code",
   "execution_count": 14,
   "id": "da5ee000",
   "metadata": {},
   "outputs": [
    {
     "name": "stdout",
     "output_type": "stream",
     "text": [
      "5.0\n",
      "'int' object has no attribute 'sqrt'\n",
      "tensor([[   nan,    nan, 1.0303],\n",
      "        [0.8882, 1.1230, 1.7718],\n",
      "        [   nan, 1.2271, 0.5830]])\n",
      "only one element tensors can be converted to Python scalars\n"
     ]
    }
   ],
   "source": [
    "\n",
    "\"\"\" \n",
    "math.sqrt((x+y)), are applicable when, x,y both are integer,\n",
    "(x+y).sqrt(), are applicable when, x,y both are tensor\n",
    "\"\"\"\n",
    "\n",
    "try: \n",
    "    x = 5\n",
    "    y = 20\n",
    "    print(math.sqrt((x+y)))\n",
    "    print((x+y).sqrt())\n",
    "except  Exception as  e:\n",
    "    print(str(e))\n",
    "    \n",
    "try: \n",
    "    x = torch.randn(size=(3,3))\n",
    "    y = torch.randn(size=(3,3))\n",
    "    print((x+y).sqrt())\n",
    "    print(math.sqrt((x+y)))\n",
    "except Exception as e:\n",
    "    print(str(e))\n",
    "    \n",
    "\n",
    "    "
   ]
  },
  {
   "cell_type": "code",
   "execution_count": 15,
   "id": "520f0a5a",
   "metadata": {},
   "outputs": [],
   "source": [
    "\n",
    "\"\"\" \n",
    "***\n",
    "LayerNormalization:\n",
    "***\n",
    "\"\"\"\n",
    "\n",
    "class LayerNormalization(nn.Module):\n",
    "    # eps is epsilon, a small number. If std = 0, it will help from \n",
    "    # undefine value for (1/0) error.\n",
    "    def __init__(self,parameters_shape,esp=1e-5):\n",
    "        super().__init__()\n",
    "        self.parameters_shape = parameters_shape # 512 \n",
    "        self.esp = esp \n",
    "        # initially, gamma=1,beta=0\n",
    "        # because,\n",
    "        #  N = gamma*() + beta*()\n",
    "        # If no normalazation is need this in this case\n",
    "        # gamma =1 and beta =0 \n",
    "        self.gamma = nn.Parameter(torch.ones(parameters_shape)) # 512\n",
    "        self.beta = nn.Parameter(torch.zeros(parameters_shape)) # 512\n",
    "        \n",
    "    def forward(self,inputs): # input = (30 X 200 X 512)\n",
    "        # we are appling layer normalization.\n",
    "        dims = [-(i+1) for i in range(len(self.parameters_shape))] #[-0],[-1], like this,(30x200x1)\n",
    "        mean = inputs.mean(dim=dims,keepdim=True) # 30 X 200 X 1\n",
    "        var = ((inputs-mean) **2).mean(dim=dims,keepdim=True)  \n",
    "        std = (var+self.esp).sqrt()\n",
    "        y = (inputs-mean)/std # 30 X 200 X 512 \n",
    "        \"\"\" \n",
    "        gamma and beta are learnable parameter, we will get\n",
    "        (512X1) vector for both gamma and beta\n",
    "        and it's should be equal to embedding dimention\n",
    "        \"\"\"\n",
    "        out = self.gamma * y + self.beta \n",
    "        return out"
   ]
  },
  {
   "cell_type": "code",
   "execution_count": 16,
   "id": "c4f5c5cb",
   "metadata": {},
   "outputs": [],
   "source": [
    "\n",
    "\"\"\" \n",
    "***\n",
    "FeedForwardNetwork:\n",
    "From the paper: FFN(x) = max(0, xW1 + b1)W2 + b2, \n",
    "We don't need to relu layer after linear2.\n",
    "***\n",
    "\"\"\"\n",
    "class FeedForwared(nn.Module):\n",
    "    def __init__(self,d_model,hidden,drop_prob):\n",
    "        super().__init__()\n",
    "        self.linear1 = nn.Linear(in_features=d_model,out_features=hidden) # 512 X 2048\n",
    "        self.linear2 = nn.Linear(in_features=hidden,out_features=d_model) # 2048 X 512\n",
    "        self.relu = nn.ReLU()\n",
    "        self.dropOut = nn.Dropout(p=drop_prob)\n",
    "        \n",
    "    def forward(self,x):\n",
    "        x = self.linear1(x) # 30x200x512\n",
    "        x = self.relu(x)\n",
    "        x = self.dropOut(x)\n",
    "        x = self.linear2(x) # 30x200x512\n",
    "        return x\n"
   ]
  },
  {
   "cell_type": "code",
   "execution_count": 17,
   "id": "edd05760",
   "metadata": {},
   "outputs": [
    {
     "data": {
      "image/png": "[encoded data removed]",
      "text/plain": [
       "<IPython.core.display.Image object>"
      ]
     },
     "metadata": {},
     "output_type": "display_data"
    }
   ],
   "source": [
    "\"\"\"\n",
    "Encoder Layer: \n",
    "\"\"\"\n",
    "from IPython.display import Image,display\n",
    "display(Image(\"img/img01.png\"))"
   ]
  },
  {
   "cell_type": "code",
   "execution_count": null,
   "id": "e16ba8c4",
   "metadata": {},
   "outputs": [],
   "source": [
    "\n",
    "class EncoderLayer(nn.Module):\n",
    "    def __init__(self,d_model,ffn_hidden,num_heads,drop_prob):\n",
    "        super(EncoderLayer,self).__init__()\n",
    "        self.attention = MultiHeadAttention(d_model=d_model,num_heads=num_heads)\n",
    "        # d model, is list because beta or gamma size should be tuple or list of int\n",
    "        self.norm1 = LayerNormalization(parameters_shape=[d_model])\n",
    "        self.dropout1 = nn.Dropout(p=drop_prob)\n",
    "        self.ffn = FeedForwared(d_model=d_model,hidden=ffn_hidden,drop_prob=drop_prob)\n",
    "        self.norm2 = LayerNormalization(parameters_shape=[d_model])\n",
    "        self.dropout2 = nn.Dropout(p=drop_prob)\n",
    "    def forward(self,x):\n",
    "        residusl_x = x # 30 x 200 x 512\n",
    "        x = self.attention(x,mask=None) # it will call the forward function (30 x 200 x 512)\n",
    "        x = self.dropout1(x) # 30 x 200 x 512\n",
    "        x = self.norm1(x+residusl_x) # 30 x 200 x 512\n",
    "        residusl_x = x  # 30 x 200 x 512\n",
    "        x = self.ffn(x) # 30 x 200 x 512\n",
    "        x = self.dropout2(x) # 30 x 200 x 512\n",
    "        x = self.norm2(x+residusl_x) # 30 x 200 x 512\n",
    "        return x \n",
    "\n",
    "    "
   ]
  },
  {
   "cell_type": "code",
   "execution_count": 19,
   "id": "03499e96",
   "metadata": {},
   "outputs": [],
   "source": [
    "\n",
    "\n",
    "class Encoder(nn.Module):\n",
    "    def __init__(self,d_model,ffn_hidden,num_heads,drop_prob,num_layer):\n",
    "        super().__init__()\n",
    "        self.layers = nn.Sequential(*[EncoderLayer(d_model,ffn_hidden,num_heads,drop_prob) for _ \n",
    "                                      in range(num_layer)])\n",
    "    def forward(self,x):\n",
    "        x = self.layers(x)\n",
    "        return x\n",
    "            \n",
    "            \n",
    "\n",
    "\n",
    "d_model = 512\n",
    "num_heads = 8\n",
    "drop_prob = 0.1\n",
    "batch_size = 30\n",
    "max_sequence_length = 200\n",
    "ffn_hidden = 2048\n",
    "num_layers = 5\n",
    "\n",
    "encoder = Encoder(d_model, ffn_hidden, num_heads, drop_prob, num_layers)\n",
    "     \n",
    "x = torch.randn( (batch_size, max_sequence_length, d_model) )\n",
    "out = encoder(x)\n",
    "     \n",
    "\n"
   ]
  }
 ],
 "metadata": {
  "kernelspec": {
   "display_name": "venv",
   "language": "python",
   "name": "python3"
  },
  "language_info": {
   "codemirror_mode": {
    "name": "ipython",
    "version": 3
   },
   "file_extension": ".py",
   "mimetype": "text/x-python",
   "name": "python",
   "nbconvert_exporter": "python",
   "pygments_lexer": "ipython3",
   "version": "3.13.3"
  }
 },
 "nbformat": 4,
 "nbformat_minor": 5
}
